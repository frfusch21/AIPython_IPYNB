{
 "cells": [
  {
   "cell_type": "markdown",
   "metadata": {},
   "source": [
    "The goal of the program is to take a starting string (which could be empty or have some characters) and build it up, one character at a time, until it matches the final target string you want.\n",
    "Algorithm:\n",
    "1. You give the program two things:\n",
    "A target string (what you want to end up with, like \"Hello\").\n",
    "A starting string (where you start from, like \"H\" or maybe even empty).\n",
    "\n",
    "2. The program tries to find the best way to reach the target string by adding one letter at a time to your starting string.\n",
    "It looks at all the possible letters (both lowercase and uppercase alphabets, and space) and picks the letter that gets it closest to the target.\n",
    "\n",
    "3. The code uses a method called greedy search to choose the next letter to add.\n",
    "\n",
    "4. The program has a \"smart guess\" method to help it decide what letter to pick. It calculates how different the current string is from the target, focusing on:\n",
    " - Mismatched letters: How many letters don't match with the target.\n",
    " - Length difference: How far the current string is from the length of the target string."
   ]
  },
  {
   "cell_type": "code",
   "execution_count": null,
   "metadata": {},
   "outputs": [],
   "source": [
    "!pip install simpleai"
   ]
  },
  {
   "cell_type": "code",
   "execution_count": null,
   "metadata": {},
   "outputs": [],
   "source": [
    "import simpleai.search as ss \n",
    "\n",
    "# Define a class to store our arguments manually (simulating argparse)\n",
    "class Args:\n",
    "   pass\n",
    "\n",
    "# Simulated input (since we don't use argparse here)\n",
    "args = Args()\n",
    "\n",
    "# Define the CustomProblem class as before\n",
    "class CustomProblem(ss.SearchProblem):\n",
    "    def set_target(self, target_string):\n",
    "        self.target_string = target_string\n",
    "\n",
    "    # Check the current state and take the right action\n",
    "    def actions(self, cur_state):\n",
    "        pass\n",
    "\n",
    "    # Concatenate state and action to get the result\n",
    "    def result(self, cur_state, action):\n",
    "        pass\n",
    "\n",
    "    # Check if goal has been achieved\n",
    "    def is_goal(self, cur_state):\n",
    "        pass\n",
    "\n",
    "    # Define the heuristic that will be used\n",
    "    def heuristic(self, cur_state):\n",
    "        pass\n",
    "\n",
    "# Initialize the problem object\n",
    "problem = CustomProblem()\n",
    "\n",
    "# Set the target string and initial state\n",
    "problem.set_target(args.input_string)\n",
    "problem.initial_state = args.initial_state\n",
    "\n",
    "# Solve the problem using the greedy algorithm\n",
    "output = ss.greedy(problem)\n",
    "\n",
    "# Output the results\n",
    "print('\\nTarget string:', args.input_string)\n",
    "print('\\nPath to the solution:')\n",
    "for item in output.path():\n",
    "    print(item)\n"
   ]
  }
 ],
 "metadata": {
  "kernelspec": {
   "display_name": "Python 3",
   "language": "python",
   "name": "python3"
  },
  "language_info": {
   "codemirror_mode": {
    "name": "ipython",
    "version": 3
   },
   "file_extension": ".py",
   "mimetype": "text/x-python",
   "name": "python",
   "nbconvert_exporter": "python",
   "pygments_lexer": "ipython3",
   "version": "3.8.0"
  }
 },
 "nbformat": 4,
 "nbformat_minor": 2
}
